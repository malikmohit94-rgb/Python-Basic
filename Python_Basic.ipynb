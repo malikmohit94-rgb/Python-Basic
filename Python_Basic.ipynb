{
  "nbformat": 4,
  "nbformat_minor": 0,
  "metadata": {
    "colab": {
      "provenance": []
    },
    "kernelspec": {
      "name": "python3",
      "display_name": "Python 3"
    },
    "language_info": {
      "name": "python"
    }
  },
  "cells": [
    {
      "cell_type": "code",
      "execution_count": null,
      "metadata": {
        "id": "1wz57kLUtLDZ"
      },
      "outputs": [],
      "source": []
    },
    {
      "cell_type": "markdown",
      "source": [
        "1. What is Python, and why is it popular\n",
        "\n",
        "Ans. Python is programing language which is easily use fresher can learn in easy way beacuse syntex make easy to learn.\n"
      ],
      "metadata": {
        "id": "0wJeMrFBtb-J"
      }
    },
    {
      "cell_type": "markdown",
      "source": [
        "2. What is an interpreter in Python\n",
        "\n",
        "Ans. Python interpreter is a program that directly executes Python code. Unlike compiled languages, which are first translated into machine code before execution, Python is an interpreted language."
      ],
      "metadata": {
        "id": "f_0Z1TJkuNeJ"
      }
    },
    {
      "cell_type": "markdown",
      "source": [
        "3. What are pre-defined keywords in Python\n",
        "\n",
        "Ans. Paython  have pre-defined keywoard those incclude with in bulid ( if , else , elif, True ,flase )"
      ],
      "metadata": {
        "id": "iLkAU5kobF1d"
      }
    },
    {
      "cell_type": "markdown",
      "source": [
        "4. Can keywords be used as variable names\n",
        "\n",
        "Ans. we cannnot use as those are pre-defined and in alternate we can use with some other element or value. ( if1 , if2 , true1, true2)\n",
        "\n",
        "But varriable name shoulb be meaningful."
      ],
      "metadata": {
        "id": "QPl0i_bGw1zG"
      }
    },
    {
      "cell_type": "markdown",
      "source": [
        "5. What is mutability in Python\n",
        "\n",
        "Ans. mutability is python can change object in contant. list is sequeal and we can change in order to object, remove , add\n"
      ],
      "metadata": {
        "id": "enq4hqYfxj53"
      }
    },
    {
      "cell_type": "markdown",
      "source": [
        "6. Why are lists mutable, but tuples are immutable\n",
        "\n"
      ],
      "metadata": {
        "id": "i8nGk0BRyThd"
      }
    },
    {
      "cell_type": "markdown",
      "source": [
        "7. What is the difference between “==” and “is” operators in Python\n",
        "\n",
        "Ans. \"==' used  for values are equal or not,\n",
        "\n",
        "\n",
        "\"is\" used for objects are same or not,"
      ],
      "metadata": {
        "id": "ZVWRAI1j0oZV"
      }
    },
    {
      "cell_type": "markdown",
      "source": [
        "8. What are logical operators in Python\n",
        "\n",
        "\n",
        " Ans. Logical operators in Python are used to combine conditional statements and evaluate True==False.\n",
        "\n",
        " it is boolen conditional statement,\n",
        "\n",
        " If a<b , or A=C"
      ],
      "metadata": {
        "id": "MCM19V911lHF"
      }
    },
    {
      "cell_type": "markdown",
      "source": [
        "9. What is type casting in Python\n",
        "\n",
        "Ans. Type case is force to change the varriable or value, process or converting into the another type is casting,\n",
        "\n",
        "it also  called explicit.\n",
        "\n",
        "if 9 is Int value and change to float , can be changable."
      ],
      "metadata": {
        "id": "ux798RQ82Z18"
      }
    },
    {
      "cell_type": "markdown",
      "source": [
        "10. What is the difference between implicit and explicit type casting.\n",
        "\n",
        "\n",
        "Ans. Both are type casting.\n",
        "\n",
        "A. implicit is know as internal changes and auto change. without changes of programmer.\n",
        "\n",
        "B. Explicit is manual process of program it perform with given task to chage the type into another."
      ],
      "metadata": {
        "id": "w2bS1KsO3KMr"
      }
    },
    {
      "cell_type": "markdown",
      "source": [
        "11. What is the purpose of conditional statements in Python\n",
        "\n",
        "Ans. Conditional statement in python program with diffrent block to know the value are True or False.\n",
        "\n",
        "in if and Else senrio detemine the value conditions."
      ],
      "metadata": {
        "id": "qxocBeuM4b9K"
      }
    },
    {
      "cell_type": "markdown",
      "source": [
        "12. How does the elif statement work.\n",
        "\n",
        "Ans. In Elif condition use in  between If and Else,\n",
        "\n",
        "in sequance of if elif and else, condition satisfy with elif then give the output."
      ],
      "metadata": {
        "id": "dRj2CgpUhrg_"
      }
    },
    {
      "cell_type": "markdown",
      "source": [
        "13. What is the difference between for and while loops\n",
        "\n",
        "Ans. In for loop conditions stantement manul run the code no of times you want to  execute the code.\n",
        "\n",
        "While Loops -: In while loops code will be run until the satisfy the give output."
      ],
      "metadata": {
        "id": "SytXzGYZigNH"
      }
    },
    {
      "cell_type": "markdown",
      "source": [
        "14. Describe a scenario where a while loop is more suitable than a for loop\n",
        "\n",
        "Ans. Consider the scenario where code will repet until match the input from operater."
      ],
      "metadata": {
        "id": "bWX1_UY-g5r9"
      }
    },
    {
      "cell_type": "markdown",
      "source": [
        "**Practical Questions**\n",
        "\n",
        "\n"
      ],
      "metadata": {
        "id": "VoOGiXsdg_b1"
      }
    },
    {
      "cell_type": "code",
      "source": [
        "#  Write a Python program to print \"Hello, World!\n",
        "\n",
        "'hello' \"  \" 'world'"
      ],
      "metadata": {
        "colab": {
          "base_uri": "https://localhost:8080/",
          "height": 35
        },
        "id": "R7F3CyrwhMAt",
        "outputId": "fc3aba1c-e398-417a-c233-fd276cde8343"
      },
      "execution_count": null,
      "outputs": [
        {
          "output_type": "execute_result",
          "data": {
            "text/plain": [
              "'hello  world'"
            ],
            "application/vnd.google.colaboratory.intrinsic+json": {
              "type": "string"
            }
          },
          "metadata": {},
          "execution_count": 43
        }
      ]
    },
    {
      "cell_type": "code",
      "source": [
        "# Write a Python program that displays your name and age\n",
        "\n",
        "name='Mohit'\" \" 'Malik'\n",
        "print(name)\n",
        "\n",
        "Age= 31\n",
        "print(Age)"
      ],
      "metadata": {
        "colab": {
          "base_uri": "https://localhost:8080/"
        },
        "id": "6oRAauTYhnDW",
        "outputId": "e6d1884f-c144-451b-85fd-95b537dd7dc8"
      },
      "execution_count": null,
      "outputs": [
        {
          "output_type": "stream",
          "name": "stdout",
          "text": [
            "Mohit Malik\n",
            "31\n"
          ]
        }
      ]
    },
    {
      "cell_type": "code",
      "source": [
        "# Write code to print all the pre-defined keywords in Python using the keyword library\n",
        "\n",
        "True =  for i in range(1,5):\n",
        "print(i)"
      ],
      "metadata": {
        "colab": {
          "base_uri": "https://localhost:8080/",
          "height": 106
        },
        "id": "RIPro6d5jlJV",
        "outputId": "7017fd3b-0f04-4be7-b649-63e0f57ccade"
      },
      "execution_count": null,
      "outputs": [
        {
          "output_type": "error",
          "ename": "SyntaxError",
          "evalue": "cannot assign to True (ipython-input-3419445350.py, line 3)",
          "traceback": [
            "\u001b[0;36m  File \u001b[0;32m\"/tmp/ipython-input-3419445350.py\"\u001b[0;36m, line \u001b[0;32m3\u001b[0m\n\u001b[0;31m    True =  for i in range(1,5):\u001b[0m\n\u001b[0m    ^\u001b[0m\n\u001b[0;31mSyntaxError\u001b[0m\u001b[0;31m:\u001b[0m cannot assign to True\n"
          ]
        }
      ]
    },
    {
      "cell_type": "code",
      "source": [
        "# Write a program that checks if a given word is a Python keyword.\n",
        "\n",
        "score_list=int(input('Your score list'))\n",
        "if score_list>90:\n",
        "    print('well score', score_list)\n",
        "else:\n",
        "    print('Low Score', score_list)\n",
        "\n"
      ],
      "metadata": {
        "id": "x-WnZpSFk8M7"
      },
      "execution_count": null,
      "outputs": []
    },
    {
      "cell_type": "markdown",
      "source": [
        "# Create a list and tuple in Python, and demonstrate how attempting to change an element works differently\n",
        "for each."
      ],
      "metadata": {
        "id": "7hShY3j7blUx"
      }
    },
    {
      "cell_type": "code",
      "source": [
        "\n",
        "\n",
        "list5=[1,2,3,4,5]\n",
        "\n",
        "list5.remove(2)\n",
        "\n",
        "print(list5)\n",
        "\n",
        "list5.append(200)\n",
        "\n",
        "print(list5)"
      ],
      "metadata": {
        "colab": {
          "base_uri": "https://localhost:8080/"
        },
        "id": "ey3So6Dkbbxb",
        "outputId": "407ab714-b75c-4bce-c76c-fb159ae5a44f"
      },
      "execution_count": null,
      "outputs": [
        {
          "output_type": "stream",
          "name": "stdout",
          "text": [
            "[1, 3, 4, 5]\n",
            "[1, 3, 4, 5, 200]\n"
          ]
        }
      ]
    },
    {
      "cell_type": "code",
      "source": [
        "tuple1=(1,2,3,4,5)\n",
        "\n",
        "tuple2=list(tuple1)\n",
        "\n",
        "print(tuple2)\n",
        "\n",
        "tuple2.append(6)\n",
        "\n",
        "print(tuple2)\n",
        "\n",
        "tuple3=tuple(tuple2)\n",
        "\n",
        "print(tuple3)"
      ],
      "metadata": {
        "colab": {
          "base_uri": "https://localhost:8080/"
        },
        "id": "HtloIghZbViW",
        "outputId": "87fa3d8b-fe44-4bbf-f98b-f4a6a6ac4124"
      },
      "execution_count": null,
      "outputs": [
        {
          "output_type": "stream",
          "name": "stdout",
          "text": [
            "[1, 2, 3, 4, 5]\n",
            "[1, 2, 3, 4, 5, 6]\n",
            "(1, 2, 3, 4, 5, 6)\n"
          ]
        }
      ]
    },
    {
      "cell_type": "markdown",
      "source": [
        "Write a function to demonstrate the behavior of mutable and immutable arguments"
      ],
      "metadata": {
        "id": "AnQ0nXi3c07L"
      }
    },
    {
      "cell_type": "code",
      "source": [
        "list6=[1,2,3,4,5]\n",
        "print(list6)\n",
        "\n",
        "list6.append(10)\n",
        "print(list6)# list are changeable.\n",
        "\n",
        "\n",
        "\n",
        "string1=('hello')# immutable cannot changeable.\n",
        "\n",
        "\n",
        "\n"
      ],
      "metadata": {
        "colab": {
          "base_uri": "https://localhost:8080/"
        },
        "id": "2srmvKAtc2Ca",
        "outputId": "e9213575-fef1-4fad-8b9f-035a65c8f7ec"
      },
      "execution_count": null,
      "outputs": [
        {
          "output_type": "stream",
          "name": "stdout",
          "text": [
            "[1, 2, 3, 4, 5]\n",
            "[1, 2, 3, 4, 5, 10]\n"
          ]
        }
      ]
    },
    {
      "cell_type": "markdown",
      "source": [
        "Write a program that performs basic arithmetic operations on two user-input numbers"
      ],
      "metadata": {
        "id": "rxKiNDGUi2z8"
      }
    },
    {
      "cell_type": "code",
      "source": [
        "a1=int(input('Balanced Amount'))\n",
        "a2=int(input('Balanced Amount'))"
      ],
      "metadata": {
        "colab": {
          "base_uri": "https://localhost:8080/"
        },
        "id": "Z8dld_p5nbjQ",
        "outputId": "5ffe75cb-1f81-41a2-a1ef-3c8ba20b0546"
      },
      "execution_count": null,
      "outputs": [
        {
          "name": "stdout",
          "output_type": "stream",
          "text": [
            "Balanced Amount2000\n",
            "Balanced Amount1000\n"
          ]
        }
      ]
    },
    {
      "cell_type": "code",
      "source": [
        "print ((a1+a2) ,'balanced amount')\n",
        "print ((a2-a1) ,'balanced amount')"
      ],
      "metadata": {
        "colab": {
          "base_uri": "https://localhost:8080/"
        },
        "id": "ZwI7ijauqO0n",
        "outputId": "288ba729-fbb2-4252-898c-5506486bc7b8"
      },
      "execution_count": null,
      "outputs": [
        {
          "output_type": "stream",
          "name": "stdout",
          "text": [
            "3000 balanced amount\n",
            "-1000 balanced amount\n"
          ]
        }
      ]
    },
    {
      "cell_type": "markdown",
      "source": [
        "Write a program to demonstrate the use of logical operators."
      ],
      "metadata": {
        "id": "w9JcbZ3xrQ5X"
      }
    },
    {
      "cell_type": "code",
      "source": [
        "Value1= 2000\n",
        "value2 = 4000\n",
        "\n",
        "if Value1 < value2:\n",
        "  print('value is True')\n",
        "else:\n",
        "  print('value is False')\n"
      ],
      "metadata": {
        "colab": {
          "base_uri": "https://localhost:8080/"
        },
        "id": "NuTgnXzerSEe",
        "outputId": "37cbd8d7-cf1a-4971-d434-785bdb64f7a5"
      },
      "execution_count": null,
      "outputs": [
        {
          "output_type": "stream",
          "name": "stdout",
          "text": [
            "value is True\n"
          ]
        }
      ]
    },
    {
      "cell_type": "code",
      "source": [
        "Value1<value2"
      ],
      "metadata": {
        "colab": {
          "base_uri": "https://localhost:8080/"
        },
        "id": "1HKumqUvzS5j",
        "outputId": "b8e57d62-d0e8-4cb6-d779-4e0ca0eec3d9"
      },
      "execution_count": null,
      "outputs": [
        {
          "output_type": "execute_result",
          "data": {
            "text/plain": [
              "True"
            ]
          },
          "metadata": {},
          "execution_count": 19
        }
      ]
    },
    {
      "cell_type": "markdown",
      "source": [
        " Write a Python program to convert user input from string to integer, float, and boolean types"
      ],
      "metadata": {
        "id": "vVx8neF1zddK"
      }
    },
    {
      "cell_type": "code",
      "source": [
        "User1=input('enter value')\n",
        "\n",
        "Int_user=input(int(User1))\n",
        "float_user=input(float(User1))\n",
        "bool_user=input(bool(User1))\n",
        "\n",
        "print(Int_user)\n"
      ],
      "metadata": {
        "colab": {
          "base_uri": "https://localhost:8080/"
        },
        "id": "JX_pAfePzeoK",
        "outputId": "c565af2f-1c8b-4cba-e163-05dd6baad322"
      },
      "execution_count": null,
      "outputs": [
        {
          "output_type": "stream",
          "name": "stdout",
          "text": [
            "enter value10\n",
            "1020\n",
            "10.030\n",
            "True40\n",
            "20\n"
          ]
        }
      ]
    },
    {
      "cell_type": "markdown",
      "source": [
        "Write code to demonstrate type casting with list elements"
      ],
      "metadata": {
        "id": "szTMfm6vHkHP"
      }
    },
    {
      "cell_type": "code",
      "source": [
        "str1=['10','20', '30']\n",
        "\n",
        "intr=[int (i) for i in str1]\n",
        "float1=[float (i) for i in str1]\n",
        "\n",
        "print(intr)\n",
        "print(float1)"
      ],
      "metadata": {
        "colab": {
          "base_uri": "https://localhost:8080/"
        },
        "id": "sOsvzdTvJHRF",
        "outputId": "beb7bb97-8f8f-48c7-8f63-fbd6189cb735"
      },
      "execution_count": null,
      "outputs": [
        {
          "output_type": "stream",
          "name": "stdout",
          "text": [
            "[10, 20, 30]\n",
            "[10.0, 20.0, 30.0]\n"
          ]
        }
      ]
    },
    {
      "cell_type": "markdown",
      "source": [
        "Write a program that checks if a number is positive, negative, or zero"
      ],
      "metadata": {
        "id": "YYFeN2lsfeup"
      }
    },
    {
      "cell_type": "code",
      "source": [
        "number=int(input('Number Check'))\n",
        "\n",
        "if number >=50 and number < 100:\n",
        "    print('Positive')\n",
        "elif number >=40:\n",
        "    print('Nagative')\n",
        "else:\n",
        "    print('zero')"
      ],
      "metadata": {
        "colab": {
          "base_uri": "https://localhost:8080/"
        },
        "id": "KUa4-9cZff64",
        "outputId": "9783a888-fe03-4e3e-e1b9-e86c13823897"
      },
      "execution_count": null,
      "outputs": [
        {
          "output_type": "stream",
          "name": "stdout",
          "text": [
            "Number Check60\n",
            "Positive\n"
          ]
        }
      ]
    },
    {
      "cell_type": "markdown",
      "source": [
        " Write a for loop to print numbers from 1 to 10."
      ],
      "metadata": {
        "id": "-usx6sLysAEo"
      }
    },
    {
      "cell_type": "code",
      "source": [
        "for i in range(1,11):\n",
        "    print(i)"
      ],
      "metadata": {
        "colab": {
          "base_uri": "https://localhost:8080/"
        },
        "id": "FyeWBCSusBvI",
        "outputId": "a1f6e5ac-c9e3-4876-a776-43644ad746c9"
      },
      "execution_count": null,
      "outputs": [
        {
          "output_type": "stream",
          "name": "stdout",
          "text": [
            "1\n",
            "2\n",
            "3\n",
            "4\n",
            "5\n",
            "6\n",
            "7\n",
            "8\n",
            "9\n",
            "10\n"
          ]
        }
      ]
    },
    {
      "cell_type": "markdown",
      "source": [
        "Write a Python program to find the sum of all even numbers between 1 and 50.\n"
      ],
      "metadata": {
        "id": "_mkxnixEsP-A"
      }
    },
    {
      "cell_type": "code",
      "source": [
        "even_1=0\n",
        "\n",
        "for  i in range(1,51):\n",
        "    if i %2==0:\n",
        "        even_1 += i\n",
        "\n",
        "print(even_1)"
      ],
      "metadata": {
        "colab": {
          "base_uri": "https://localhost:8080/"
        },
        "id": "09HA-5-jsSE4",
        "outputId": "ee5ed822-b064-40ff-e7b6-3d6412755fca"
      },
      "execution_count": null,
      "outputs": [
        {
          "output_type": "stream",
          "name": "stdout",
          "text": [
            "650\n"
          ]
        }
      ]
    },
    {
      "cell_type": "markdown",
      "source": [
        "Write a program to reverse a string using a while loop"
      ],
      "metadata": {
        "id": "WPJx0x9Zw4Hw"
      }
    },
    {
      "cell_type": "code",
      "source": [
        "s='good' 'morning'\n",
        "\n",
        "r=\" \"\n",
        "\n",
        "i=len(s)-1\n",
        "\n",
        "while i > 0:\n",
        "     r+=s[i]\n",
        "     i-=1\n",
        "print(r)"
      ],
      "metadata": {
        "id": "iyQ8zDLhw5aI"
      },
      "execution_count": null,
      "outputs": []
    }
  ]
}